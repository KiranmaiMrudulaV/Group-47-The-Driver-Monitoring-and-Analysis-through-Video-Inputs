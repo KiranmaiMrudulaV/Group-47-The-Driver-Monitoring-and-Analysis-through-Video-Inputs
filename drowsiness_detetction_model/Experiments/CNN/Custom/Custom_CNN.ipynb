{
 "cells": [
  {
   "cell_type": "code",
   "execution_count": 1,
   "metadata": {},
   "outputs": [
    {
     "name": "stderr",
     "output_type": "stream",
     "text": [
      "/Users/apple/anaconda3/lib/python3.6/site-packages/h5py/__init__.py:34: FutureWarning: Conversion of the second argument of issubdtype from `float` to `np.floating` is deprecated. In future, it will be treated as `np.float64 == np.dtype(float).type`.\n",
      "  from ._conv import register_converters as _register_converters\n",
      "Using TensorFlow backend.\n"
     ]
    },
    {
     "name": "stdout",
     "output_type": "stream",
     "text": [
      "(3496, 61, 61)\n",
      "(3496,)\n",
      "(3496, 61, 61)\n",
      "(3496, 61, 61, 1)\n",
      "(204, 61, 61, 1)\n",
      "(204,)\n"
     ]
    }
   ],
   "source": [
    "\n",
    "import pandas as pd\n",
    "import tensorflow as tf\n",
    "import keras\n",
    "from keras.models import Sequential\n",
    "from keras.layers import Dense, Dropout, Activation, Flatten\t\n",
    "from keras.layers import Convolution2D, MaxPooling2D\n",
    "from keras import optimizers\n",
    "from keras.utils import np_utils\n",
    "from keras.utils import to_categorical\n",
    "from pyts.preprocessing import StandardScaler\n",
    "from pyts.image import GASF, GADF, MTF\n",
    "import sklearn.metrics as sklm\n",
    "from sklearn import  metrics\n",
    "from sklearn.metrics import confusion_matrix\n",
    "import numpy as np\n",
    "from sklearn.model_selection import GridSearchCV,RandomizedSearchCV\n",
    "from keras.wrappers.scikit_learn import KerasClassifier\n",
    "from sklearn.preprocessing import LabelEncoder\n",
    "from sklearn.model_selection import StratifiedKFold\n",
    "#from pandas_ml import ConfusionMatrix\n",
    "from tensorflow import set_random_seed\n",
    "from keras.models import load_model\n",
    "#seeding 1001\n",
    "seed = 1001\n",
    "np.random.seed(seed) #for numpy\n",
    "set_random_seed(seed) #for Tensorflow   \n",
    "\n",
    "import os\n",
    "\n",
    "#Read image array from disk\n",
    "x_train = np.loadtxt('x_train_RP_j.txt').reshape((3496,61,61))\n",
    "\n",
    "y_train = np.loadtxt('y_train_RP_j.txt')\n",
    "\n",
    "print(x_train.shape)\n",
    "print(y_train.shape)\n",
    "\n",
    "\n",
    "\n",
    "#Normalize the images\n",
    "def norm(data_x):\n",
    "#convert to float32 and normalize to [0,1]\n",
    "    data_x = data_x.astype('float32')\n",
    "    data_x /= np.amax(data_x)\n",
    "    return data_x\n",
    "\n",
    "train_x = norm(x_train)\n",
    "\n",
    "# convert labels to integers\n",
    "def l_i(data_y):\n",
    "    encoder = LabelEncoder()\n",
    "    encoder.fit(data_y)\n",
    "    data_y = encoder.transform(data_y)\n",
    "    return data_y\n",
    "\n",
    "train_y = l_i(y_train)\n",
    "\n",
    "print(train_x.shape)\n",
    "train_x = train_x.reshape(3496,61,61,1)\n",
    "print(train_x.shape)\n",
    "\n",
    "#Shufling the data\n",
    "idx = np.random.permutation(len(train_x))\n",
    "train_x,train_y = train_x[idx], train_y[idx]\n",
    "\n",
    "x_test = np.loadtxt('x_test_RP_j.txt').reshape((204,61,61))\n",
    "x_test = norm(x_test)\n",
    "x_test = x_test.reshape(204,61,61,1)\n",
    "print(x_test.shape)\n",
    "\n",
    "y_test = np.loadtxt('y_test_RP_j.txt')\n",
    "y_test = l_i(y_test)\n",
    "print(y_test.shape)\n",
    "\n",
    "\n",
    "#defining custome metric for guiding our neural network\n",
    "def auc_roc(y_true, y_pred):\n",
    "    # any tensorflow metric\n",
    "    #value, update_op = metrics.roc_auc_score(y_true, y_pred)\n",
    "    value, update_op = tf.metrics.auc(y_true, y_pred)\n",
    "\n",
    "    # find all variables created for this metric\n",
    "    metric_vars = [i for i in tf.local_variables() if 'auc_roc' in i.name.split('/')[1]]\n",
    "\n",
    "    # Add metric variables to GLOBAL_VARIABLES collection.\n",
    "    # They will be initialized for new session.\n",
    "    for v in metric_vars:\n",
    "        tf.add_to_collection(tf.GraphKeys.GLOBAL_VARIABLES, v)\n",
    "\n",
    "    # force to update metric values\n",
    "    with tf.control_dependencies([update_op]):\n",
    "        value = tf.identity(value)\n",
    "        return value\n",
    "\n",
    "\n",
    "\n",
    "\n"
   ]
  },
  {
   "cell_type": "code",
   "execution_count": 2,
   "metadata": {
    "collapsed": true
   },
   "outputs": [],
   "source": [
    "model2=Sequential()\n",
    "model2.add(Convolution2D(61, (3,3), padding='same', input_shape=(61,61,1),\n",
    "                         kernel_initializer='normal',\n",
    "                         use_bias=True,bias_initializer='RandomNormal'))\n",
    "model2.add(Convolution2D(61, (3,3),kernel_initializer='normal',\n",
    "                         use_bias=True,bias_initializer='RandomNormal'))\n",
    "model2.add(Convolution2D(61, (3,3),kernel_initializer='normal',\n",
    "                         use_bias=True,bias_initializer='RandomNormal'))\n",
    "model2.add(Convolution2D(61, (3,3),kernel_initializer='normal',\n",
    "                         use_bias=True,bias_initializer='RandomNormal'))\n",
    "model2.add(MaxPooling2D(pool_size=(2,2)))\n",
    "model2.add(Convolution2D(61, (3,3),kernel_initializer='normal',\n",
    "                         use_bias=True,bias_initializer='RandomNormal'))\n",
    "model2.add(Convolution2D(61, (3,3),kernel_initializer='normal',\n",
    "                         use_bias=True,bias_initializer='RandomNormal'))\n",
    "model2.add(Convolution2D(61, (3,3),kernel_initializer='normal',\n",
    "                         use_bias=True,bias_initializer='RandomNormal'))\n",
    "model2.add(Convolution2D(61, (3,3),kernel_initializer='normal',\n",
    "                         use_bias=True,bias_initializer='RandomNormal'))\n",
    "model2.add(Activation('relu'))\n",
    "model2.add(Convolution2D(32, (3,3), padding='same',kernel_initializer='normal',\n",
    "                         use_bias=True,bias_initializer='RandomNormal'))\n",
    "model2.add(Convolution2D(32, (3, 3),kernel_initializer='normal',\n",
    "                         use_bias=True,bias_initializer='RandomNormal'))\n",
    "model2.add(Convolution2D(16, (3,3), padding='same'))\n",
    "model2.add(Convolution2D(16, (3,3), padding='same'))\n",
    "model2.add(MaxPooling2D(pool_size=(2,2)))\n",
    "model2.add(Convolution2D(16, (3,3), padding='same'))\n",
    "model2.add(Convolution2D(16, (3,3), padding='same'))\n",
    "model2.add(Activation('relu'))\n",
    "model2.add(Convolution2D(16, (3, 3)))\n",
    "model2.add(MaxPooling2D(pool_size=(2,2)))\n",
    "model2.add(Flatten())\n",
    "model2.add(Dense(256,kernel_initializer='normal',\n",
    "                         use_bias=True,bias_initializer='RandomNormal'))\n",
    "model2.add(Dropout(0.25))\n",
    "model2.add(Dense(1, activation='sigmoid'))\n",
    "\n",
    "\n",
    "model2.compile(loss='binary_crossentropy',metrics=[auc_roc],optimizer= optimizers.RMSprop(lr=2e-5))\n",
    "\n"
   ]
  },
  {
   "cell_type": "code",
   "execution_count": 3,
   "metadata": {},
   "outputs": [
    {
     "data": {
      "text/plain": [
       "'/Users/apple/Drowsy/60'"
      ]
     },
     "execution_count": 3,
     "metadata": {},
     "output_type": "execute_result"
    }
   ],
   "source": [
    "os.getcwd()"
   ]
  },
  {
   "cell_type": "code",
   "execution_count": 4,
   "metadata": {},
   "outputs": [
    {
     "name": "stdout",
     "output_type": "stream",
     "text": [
      "Epoch 1/15\n",
      "3496/3496 [==============================] - 267s 76ms/step - loss: 0.6834 - auc_roc: 0.5508\n",
      "\n",
      "Epoch 00001: saving model to /Users/apple/Drowsy/60/Custom_CNN_weights.h5\n",
      "Epoch 2/15\n",
      "3496/3496 [==============================] - 266s 76ms/step - loss: 0.6424 - auc_roc: 0.6263\n",
      "\n",
      "Epoch 00002: saving model to /Users/apple/Drowsy/60/Custom_CNN_weights.h5\n",
      "Epoch 3/15\n",
      "3496/3496 [==============================] - 406s 116ms/step - loss: 0.6106 - auc_roc: 0.6620\n",
      "\n",
      "Epoch 00003: saving model to /Users/apple/Drowsy/60/Custom_CNN_weights.h5\n",
      "Epoch 4/15\n",
      "3496/3496 [==============================] - 264s 76ms/step - loss: 0.5901 - auc_roc: 0.6881\n",
      "\n",
      "Epoch 00004: saving model to /Users/apple/Drowsy/60/Custom_CNN_weights.h5\n",
      "Epoch 5/15\n",
      "3496/3496 [==============================] - 294s 84ms/step - loss: 0.5799 - auc_roc: 0.7052\n",
      "\n",
      "Epoch 00005: saving model to /Users/apple/Drowsy/60/Custom_CNN_weights.h5\n",
      "Epoch 6/15\n",
      "3496/3496 [==============================] - 495s 142ms/step - loss: 0.5649 - auc_roc: 0.7173\n",
      "\n",
      "Epoch 00006: saving model to /Users/apple/Drowsy/60/Custom_CNN_weights.h5\n",
      "Epoch 7/15\n",
      "3496/3496 [==============================] - 275s 79ms/step - loss: 0.5551 - auc_roc: 0.7278\n",
      "\n",
      "Epoch 00007: saving model to /Users/apple/Drowsy/60/Custom_CNN_weights.h5\n",
      "Epoch 8/15\n",
      "3496/3496 [==============================] - 265s 76ms/step - loss: 0.5450 - auc_roc: 0.7371\n",
      "\n",
      "Epoch 00008: saving model to /Users/apple/Drowsy/60/Custom_CNN_weights.h5\n",
      "Epoch 9/15\n",
      "3496/3496 [==============================] - 265s 76ms/step - loss: 0.5314 - auc_roc: 0.7457\n",
      "\n",
      "Epoch 00009: saving model to /Users/apple/Drowsy/60/Custom_CNN_weights.h5\n",
      "Epoch 10/15\n",
      "3496/3496 [==============================] - 265s 76ms/step - loss: 0.5198 - auc_roc: 0.7543\n",
      "\n",
      "Epoch 00010: saving model to /Users/apple/Drowsy/60/Custom_CNN_weights.h5\n",
      "Epoch 11/15\n",
      "3496/3496 [==============================] - 278s 80ms/step - loss: 0.5069 - auc_roc: 0.7613\n",
      "\n",
      "Epoch 00011: saving model to /Users/apple/Drowsy/60/Custom_CNN_weights.h5\n",
      "Epoch 12/15\n",
      "3496/3496 [==============================] - 792s 227ms/step - loss: 0.4967 - auc_roc: 0.7686\n",
      "\n",
      "Epoch 00012: saving model to /Users/apple/Drowsy/60/Custom_CNN_weights.h5\n",
      "Epoch 13/15\n",
      "3496/3496 [==============================] - 264s 76ms/step - loss: 0.4898 - auc_roc: 0.7754\n",
      "\n",
      "Epoch 00013: saving model to /Users/apple/Drowsy/60/Custom_CNN_weights.h5\n",
      "Epoch 14/15\n",
      "3496/3496 [==============================] - 351s 100ms/step - loss: 0.4760 - auc_roc: 0.7815\n",
      "\n",
      "Epoch 00014: saving model to /Users/apple/Drowsy/60/Custom_CNN_weights.h5\n",
      "Epoch 15/15\n",
      "3496/3496 [==============================] - 265s 76ms/step - loss: 0.4677 - auc_roc: 0.7877\n",
      "\n",
      "Epoch 00015: saving model to /Users/apple/Drowsy/60/Custom_CNN_weights.h5\n"
     ]
    },
    {
     "data": {
      "text/plain": [
       "<keras.callbacks.History at 0x10bac24a8>"
      ]
     },
     "execution_count": 4,
     "metadata": {},
     "output_type": "execute_result"
    }
   ],
   "source": [
    "from keras.callbacks import ModelCheckpoint, ReduceLROnPlateau\n",
    "filepath=\"/Users/manjju/Drowsy/60/Custom_CNN_weights.h5\"\n",
    "\n",
    "model_checkpoint = ModelCheckpoint(filepath, verbose=1, monitor= 'auc_roc', save_best_only=False, save_weights_only=True)\n",
    "\n",
    "\n",
    "reduce_lr = ReduceLROnPlateau(monitor= 'auc_roc', patience=100, mode='auto',\n",
    "                                   cooldown=0, min_lr=1e-4, verbose=2)\n",
    "\n",
    "\n",
    "callback_list = [model_checkpoint, reduce_lr]\n",
    "\n",
    "\n",
    "model2.fit(train_x, train_y, epochs=15, verbose=1, callbacks = callback_list) ##fit the model\n",
    "\n",
    "\n",
    "\n",
    "\n",
    "\n",
    "\n"
   ]
  },
  {
   "cell_type": "code",
   "execution_count": 34,
   "metadata": {},
   "outputs": [
    {
     "name": "stdout",
     "output_type": "stream",
     "text": [
      "204/204 [==============================] - 7s 33ms/step\n",
      "AUC of the model is:  0.7879104625944998\n",
      "Loss of the model is:  0.6486009283393037\n"
     ]
    }
   ],
   "source": [
    "loss, auc = model2.evaluate(x_test, y_test)\n",
    "print('AUC of the model is: ', auc)\n",
    "print('Loss of the model is: ', loss)"
   ]
  },
  {
   "cell_type": "code",
   "execution_count": 23,
   "metadata": {},
   "outputs": [],
   "source": [
    "yhat = model2.predict_proba(x_test)\n",
    "roc_mtf=np.column_stack((y_test, yhat))\n",
    "roc_df=pd.DataFrame(roc_mtf)\n",
    "roc_df.to_csv(\"custom_cnn_predicted.csv\")"
   ]
  },
  {
   "cell_type": "code",
   "execution_count": 35,
   "metadata": {},
   "outputs": [
    {
     "name": "stdout",
     "output_type": "stream",
     "text": [
      "Epoch 1/5\n",
      "3496/3496 [==============================] - 267s 76ms/step - loss: 0.4493 - auc_roc: 0.7905\n",
      "\n",
      "Epoch 00001: saving model to /Users/apple/Drowsy/60/Custom_CNN_weights.h5\n",
      "Epoch 2/5\n",
      "3496/3496 [==============================] - 270s 77ms/step - loss: 0.4474 - auc_roc: 0.7964\n",
      "\n",
      "Epoch 00002: saving model to /Users/apple/Drowsy/60/Custom_CNN_weights.h5\n",
      "Epoch 3/5\n",
      "3496/3496 [==============================] - 555s 159ms/step - loss: 0.4290 - auc_roc: 0.8020\n",
      "\n",
      "Epoch 00003: saving model to /Users/apple/Drowsy/60/Custom_CNN_weights.h5\n",
      "Epoch 4/5\n",
      "3496/3496 [==============================] - 265s 76ms/step - loss: 0.4186 - auc_roc: 0.8076\n",
      "\n",
      "Epoch 00004: saving model to /Users/apple/Drowsy/60/Custom_CNN_weights.h5\n",
      "Epoch 5/5\n",
      "3496/3496 [==============================] - 273s 78ms/step - loss: 0.4142 - auc_roc: 0.8127\n",
      "\n",
      "Epoch 00005: saving model to /Users/apple/Drowsy/60/Custom_CNN_weights.h5\n"
     ]
    },
    {
     "data": {
      "text/plain": [
       "<keras.callbacks.History at 0x1a2eedc8d0>"
      ]
     },
     "execution_count": 35,
     "metadata": {},
     "output_type": "execute_result"
    }
   ],
   "source": [
    "model2.fit(train_x, train_y, epochs=5, verbose=1, callbacks = callback_list) ##fit the model\n"
   ]
  },
  {
   "cell_type": "code",
   "execution_count": 36,
   "metadata": {},
   "outputs": [
    {
     "name": "stdout",
     "output_type": "stream",
     "text": [
      "204/204 [==============================] - 7s 32ms/step\n",
      "AUC of the model is:  0.8151342635061226\n",
      "Loss of the model is:  0.6839725112213808\n"
     ]
    }
   ],
   "source": [
    "loss, auc = model2.evaluate(x_test, y_test)\n",
    "print('AUC of the model is: ', auc)\n",
    "print('Loss of the model is: ', loss)"
   ]
  },
  {
   "cell_type": "code",
   "execution_count": 44,
   "metadata": {},
   "outputs": [
    {
     "name": "stdout",
     "output_type": "stream",
     "text": [
      "Train on 3496 samples, validate on 204 samples\n",
      "Epoch 1/5\n",
      "3496/3496 [==============================] - 278s 79ms/step - loss: 0.4002 - auc_roc: 0.8174 - val_loss: 0.8792 - val_auc_roc: 0.8195\n",
      "\n",
      "Epoch 00001: saving model to /Users/apple/Drowsy/60/Custom_CNN_weights.h5\n",
      "Epoch 2/5\n",
      "3496/3496 [==============================] - 283s 81ms/step - loss: 0.3886 - auc_roc: 0.8216 - val_loss: 0.6567 - val_auc_roc: 0.8238\n",
      "\n",
      "Epoch 00002: saving model to /Users/apple/Drowsy/60/Custom_CNN_weights.h5\n",
      "Epoch 3/5\n",
      "3496/3496 [==============================] - 275s 79ms/step - loss: 0.3711 - auc_roc: 0.8259 - val_loss: 0.6116 - val_auc_roc: 0.8285\n",
      "\n",
      "Epoch 00003: saving model to /Users/apple/Drowsy/60/Custom_CNN_weights.h5\n",
      "Epoch 4/5\n",
      "3496/3496 [==============================] - 271s 77ms/step - loss: 0.3651 - auc_roc: 0.8307 - val_loss: 0.9605 - val_auc_roc: 0.8326\n",
      "\n",
      "Epoch 00004: saving model to /Users/apple/Drowsy/60/Custom_CNN_weights.h5\n",
      "Epoch 5/5\n",
      "3496/3496 [==============================] - 1377s 394ms/step - loss: 0.3585 - auc_roc: 0.8345 - val_loss: 0.6215 - val_auc_roc: 0.8364\n",
      "\n",
      "Epoch 00005: saving model to /Users/apple/Drowsy/60/Custom_CNN_weights.h5\n"
     ]
    },
    {
     "data": {
      "text/plain": [
       "<keras.callbacks.History at 0x1a2fd00cc0>"
      ]
     },
     "execution_count": 44,
     "metadata": {},
     "output_type": "execute_result"
    }
   ],
   "source": [
    "model2.fit(train_x, train_y, epochs=5, verbose=1, callbacks = callback_list, validation_data = (x_test, y_test)) ##fit the model\n"
   ]
  },
  {
   "cell_type": "code",
   "execution_count": 45,
   "metadata": {},
   "outputs": [
    {
     "name": "stdout",
     "output_type": "stream",
     "text": [
      "204/204 [==============================] - 7s 36ms/step\n",
      "AUC of the model is:  0.8362144301919376\n",
      "Loss of the model is:  0.6215098237290102\n"
     ]
    }
   ],
   "source": [
    "loss, auc = model2.evaluate(x_test, y_test)\n",
    "print('AUC of the model is: ', auc)\n",
    "print('Loss of the model is: ', loss)"
   ]
  },
  {
   "cell_type": "code",
   "execution_count": 46,
   "metadata": {},
   "outputs": [
    {
     "data": {
      "text/plain": [
       "0.6078584439240177"
      ]
     },
     "execution_count": 46,
     "metadata": {},
     "output_type": "execute_result"
    }
   ],
   "source": [
    "yhat_3 = model2.predict_proba(x_test)\n",
    "from sklearn.metrics import roc_auc_score\n",
    "roc_auc_score(y_test, yhat_3)"
   ]
  }
 ],
 "metadata": {
  "kernelspec": {
   "display_name": "Python 3",
   "language": "python",
   "name": "python3"
  },
  "language_info": {
   "codemirror_mode": {
    "name": "ipython",
    "version": 3
   },
   "file_extension": ".py",
   "mimetype": "text/x-python",
   "name": "python",
   "nbconvert_exporter": "python",
   "pygments_lexer": "ipython3",
   "version": "3.6.3"
  }
 },
 "nbformat": 4,
 "nbformat_minor": 2
}
